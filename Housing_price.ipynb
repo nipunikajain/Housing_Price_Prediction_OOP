{
 "cells": [
  {
   "cell_type": "code",
   "execution_count": 43,
   "metadata": {
    "collapsed": true
   },
   "outputs": [],
   "source": [
    "from imports import *\n",
    "from dataloader.loader import Pre_processing\n",
    "from processor.processor import Preprocessor\n",
    "from model.model import ML\n",
    "from executor.executir import HouseObjectOriented\n",
    "import seaborn as sns"
   ]
  },
  {
   "cell_type": "code",
   "execution_count": 2,
   "outputs": [],
   "source": [
    "#collect the data\n",
    "df = pd.read_csv(\"C:/Users/PEARL/Downloads/Nitin/mydf.csv\",)"
   ],
   "metadata": {
    "collapsed": false
   }
  },
  {
   "cell_type": "code",
   "execution_count": 3,
   "outputs": [],
   "source": [
    "index = pd.Index(range(df.shape[0]))\n",
    "data = df.set_index(index)\n",
    "data = data.reset_index()\n",
    "data.rename(columns={'index':'Id'},inplace=True)"
   ],
   "metadata": {
    "collapsed": false
   }
  },
  {
   "cell_type": "code",
   "execution_count": 6,
   "outputs": [],
   "source": [
    "data['year_of_sale'] = pd.DatetimeIndex(data['date']).year"
   ],
   "metadata": {
    "collapsed": false
   }
  },
  {
   "cell_type": "code",
   "execution_count": 7,
   "outputs": [
    {
     "data": {
      "text/plain": "          Id  borough               neighborhood  \\\n0          0        3  BATH BEACH                  \n1          1        3  BATH BEACH                  \n2          2        3  BATH BEACH                  \n3          3        3  BATH BEACH                  \n4          4        3  BATH BEACH                  \n...      ...      ...                        ...   \n19635  19635        3       DOWNTOWN-FULTON MALL   \n19636  19636        3         WILLIAMSBURG-NORTH   \n19637  19637        3         WILLIAMSBURG-NORTH   \n19638  19638        3         WILLIAMSBURG-NORTH   \n19639  19639        3         WILLIAMSBURG-NORTH   \n\n                                        bldclasscat taxclasscurr  block  \\\n0      01  ONE FAMILY DWELLINGS                                1   6361   \n1      01  ONE FAMILY DWELLINGS                                1   6364   \n2      01  ONE FAMILY DWELLINGS                                1   6371   \n3      01  ONE FAMILY DWELLINGS                                1   6394   \n4      01  ONE FAMILY DWELLINGS                                1   6401   \n...                                             ...          ...    ...   \n19635                 11 SPECIAL CONDO BILLING LOTS            2    165   \n19636                 11 SPECIAL CONDO BILLING LOTS            2   2331   \n19637                 11 SPECIAL CONDO BILLING LOTS            2   2337   \n19638                 11 SPECIAL CONDO BILLING LOTS            2   2337   \n19639                 11 SPECIAL CONDO BILLING LOTS            2   2337   \n\n          lot bldclasscurr                                    address  \\\n0        11.0           A5  71 BAY 10TH   STREET                        \n1        72.0           A5  68 BAY 14TH STREET                          \n2        79.0           A5  8668 19TH AVENUE                            \n3         5.0           A5  160 BAY 10TH STREET                         \n4        18.0           A5  8739 BAY 16TH STREET                        \n...       ...          ...                                        ...   \n19635  1103.0           RR                     210 LIVINGSTON ST, AFF   \n19636  1144.0           RR                  308 NORTH 7TH STREET, PHB   \n19637  1201.0           RR                    207 NORTH 5TH STREET, A   \n19638  1202.0           RR                    207 NORTH 5TH STREET, B   \n19639  1203.0           RR                   207 NORTH 5TH STREET, PH   \n\n             aptnum  ...  comunits  totunits  landsqft  grosssqft  yrbuilt  \\\n0                    ...       NaN         1      2900       1660     1930   \n1                    ...       NaN         1      1950        972     1950   \n2                    ...       NaN         1      2223       2520     1930   \n3                    ...       NaN         1      2469       1836     1940   \n4                    ...       NaN         1      2417       1462     1925   \n...             ...  ...       ...       ...       ...        ...      ...   \n19635           AFF  ...       0.0         1     25112      51528     2016   \n19636           PHB  ...       0.0         1     13800       1271     2017   \n19637             A  ...       0.0         1      2500       1716     2017   \n19638             B  ...       0.0         1      2500       1303     2017   \n19639            PH  ...       0.0         1      2500       2233     2017   \n\n       taxclasssale  bldclasssale    price        date  year_of_sale  \n0                 1            A5   829000         NaN           NaN  \n1                 1            A5   790000  2016-06-21        2016.0  \n2                 1            A5   788000  2016-03-31        2016.0  \n3                 1            A5   920000         NaN           NaN  \n4                 1            A5   839000         NaN           NaN  \n...             ...           ...      ...         ...           ...  \n19635             2            RR        0  2020-12-22        2020.0  \n19636             2            RR  2353500  2020-07-14        2020.0  \n19637             2            RR  3360000         NaN           NaN  \n19638             2            RR  3360000         NaN           NaN  \n19639             2            RR  3360000         NaN           NaN  \n\n[19640 rows x 22 columns]",
      "text/html": "<div>\n<style scoped>\n    .dataframe tbody tr th:only-of-type {\n        vertical-align: middle;\n    }\n\n    .dataframe tbody tr th {\n        vertical-align: top;\n    }\n\n    .dataframe thead th {\n        text-align: right;\n    }\n</style>\n<table border=\"1\" class=\"dataframe\">\n  <thead>\n    <tr style=\"text-align: right;\">\n      <th></th>\n      <th>Id</th>\n      <th>borough</th>\n      <th>neighborhood</th>\n      <th>bldclasscat</th>\n      <th>taxclasscurr</th>\n      <th>block</th>\n      <th>lot</th>\n      <th>bldclasscurr</th>\n      <th>address</th>\n      <th>aptnum</th>\n      <th>...</th>\n      <th>comunits</th>\n      <th>totunits</th>\n      <th>landsqft</th>\n      <th>grosssqft</th>\n      <th>yrbuilt</th>\n      <th>taxclasssale</th>\n      <th>bldclasssale</th>\n      <th>price</th>\n      <th>date</th>\n      <th>year_of_sale</th>\n    </tr>\n  </thead>\n  <tbody>\n    <tr>\n      <th>0</th>\n      <td>0</td>\n      <td>3</td>\n      <td>BATH BEACH</td>\n      <td>01  ONE FAMILY DWELLINGS</td>\n      <td>1</td>\n      <td>6361</td>\n      <td>11.0</td>\n      <td>A5</td>\n      <td>71 BAY 10TH   STREET</td>\n      <td></td>\n      <td>...</td>\n      <td>NaN</td>\n      <td>1</td>\n      <td>2900</td>\n      <td>1660</td>\n      <td>1930</td>\n      <td>1</td>\n      <td>A5</td>\n      <td>829000</td>\n      <td>NaN</td>\n      <td>NaN</td>\n    </tr>\n    <tr>\n      <th>1</th>\n      <td>1</td>\n      <td>3</td>\n      <td>BATH BEACH</td>\n      <td>01  ONE FAMILY DWELLINGS</td>\n      <td>1</td>\n      <td>6364</td>\n      <td>72.0</td>\n      <td>A5</td>\n      <td>68 BAY 14TH STREET</td>\n      <td></td>\n      <td>...</td>\n      <td>NaN</td>\n      <td>1</td>\n      <td>1950</td>\n      <td>972</td>\n      <td>1950</td>\n      <td>1</td>\n      <td>A5</td>\n      <td>790000</td>\n      <td>2016-06-21</td>\n      <td>2016.0</td>\n    </tr>\n    <tr>\n      <th>2</th>\n      <td>2</td>\n      <td>3</td>\n      <td>BATH BEACH</td>\n      <td>01  ONE FAMILY DWELLINGS</td>\n      <td>1</td>\n      <td>6371</td>\n      <td>79.0</td>\n      <td>A5</td>\n      <td>8668 19TH AVENUE</td>\n      <td></td>\n      <td>...</td>\n      <td>NaN</td>\n      <td>1</td>\n      <td>2223</td>\n      <td>2520</td>\n      <td>1930</td>\n      <td>1</td>\n      <td>A5</td>\n      <td>788000</td>\n      <td>2016-03-31</td>\n      <td>2016.0</td>\n    </tr>\n    <tr>\n      <th>3</th>\n      <td>3</td>\n      <td>3</td>\n      <td>BATH BEACH</td>\n      <td>01  ONE FAMILY DWELLINGS</td>\n      <td>1</td>\n      <td>6394</td>\n      <td>5.0</td>\n      <td>A5</td>\n      <td>160 BAY 10TH STREET</td>\n      <td></td>\n      <td>...</td>\n      <td>NaN</td>\n      <td>1</td>\n      <td>2469</td>\n      <td>1836</td>\n      <td>1940</td>\n      <td>1</td>\n      <td>A5</td>\n      <td>920000</td>\n      <td>NaN</td>\n      <td>NaN</td>\n    </tr>\n    <tr>\n      <th>4</th>\n      <td>4</td>\n      <td>3</td>\n      <td>BATH BEACH</td>\n      <td>01  ONE FAMILY DWELLINGS</td>\n      <td>1</td>\n      <td>6401</td>\n      <td>18.0</td>\n      <td>A5</td>\n      <td>8739 BAY 16TH STREET</td>\n      <td></td>\n      <td>...</td>\n      <td>NaN</td>\n      <td>1</td>\n      <td>2417</td>\n      <td>1462</td>\n      <td>1925</td>\n      <td>1</td>\n      <td>A5</td>\n      <td>839000</td>\n      <td>NaN</td>\n      <td>NaN</td>\n    </tr>\n    <tr>\n      <th>...</th>\n      <td>...</td>\n      <td>...</td>\n      <td>...</td>\n      <td>...</td>\n      <td>...</td>\n      <td>...</td>\n      <td>...</td>\n      <td>...</td>\n      <td>...</td>\n      <td>...</td>\n      <td>...</td>\n      <td>...</td>\n      <td>...</td>\n      <td>...</td>\n      <td>...</td>\n      <td>...</td>\n      <td>...</td>\n      <td>...</td>\n      <td>...</td>\n      <td>...</td>\n      <td>...</td>\n    </tr>\n    <tr>\n      <th>19635</th>\n      <td>19635</td>\n      <td>3</td>\n      <td>DOWNTOWN-FULTON MALL</td>\n      <td>11 SPECIAL CONDO BILLING LOTS</td>\n      <td>2</td>\n      <td>165</td>\n      <td>1103.0</td>\n      <td>RR</td>\n      <td>210 LIVINGSTON ST, AFF</td>\n      <td>AFF</td>\n      <td>...</td>\n      <td>0.0</td>\n      <td>1</td>\n      <td>25112</td>\n      <td>51528</td>\n      <td>2016</td>\n      <td>2</td>\n      <td>RR</td>\n      <td>0</td>\n      <td>2020-12-22</td>\n      <td>2020.0</td>\n    </tr>\n    <tr>\n      <th>19636</th>\n      <td>19636</td>\n      <td>3</td>\n      <td>WILLIAMSBURG-NORTH</td>\n      <td>11 SPECIAL CONDO BILLING LOTS</td>\n      <td>2</td>\n      <td>2331</td>\n      <td>1144.0</td>\n      <td>RR</td>\n      <td>308 NORTH 7TH STREET, PHB</td>\n      <td>PHB</td>\n      <td>...</td>\n      <td>0.0</td>\n      <td>1</td>\n      <td>13800</td>\n      <td>1271</td>\n      <td>2017</td>\n      <td>2</td>\n      <td>RR</td>\n      <td>2353500</td>\n      <td>2020-07-14</td>\n      <td>2020.0</td>\n    </tr>\n    <tr>\n      <th>19637</th>\n      <td>19637</td>\n      <td>3</td>\n      <td>WILLIAMSBURG-NORTH</td>\n      <td>11 SPECIAL CONDO BILLING LOTS</td>\n      <td>2</td>\n      <td>2337</td>\n      <td>1201.0</td>\n      <td>RR</td>\n      <td>207 NORTH 5TH STREET, A</td>\n      <td>A</td>\n      <td>...</td>\n      <td>0.0</td>\n      <td>1</td>\n      <td>2500</td>\n      <td>1716</td>\n      <td>2017</td>\n      <td>2</td>\n      <td>RR</td>\n      <td>3360000</td>\n      <td>NaN</td>\n      <td>NaN</td>\n    </tr>\n    <tr>\n      <th>19638</th>\n      <td>19638</td>\n      <td>3</td>\n      <td>WILLIAMSBURG-NORTH</td>\n      <td>11 SPECIAL CONDO BILLING LOTS</td>\n      <td>2</td>\n      <td>2337</td>\n      <td>1202.0</td>\n      <td>RR</td>\n      <td>207 NORTH 5TH STREET, B</td>\n      <td>B</td>\n      <td>...</td>\n      <td>0.0</td>\n      <td>1</td>\n      <td>2500</td>\n      <td>1303</td>\n      <td>2017</td>\n      <td>2</td>\n      <td>RR</td>\n      <td>3360000</td>\n      <td>NaN</td>\n      <td>NaN</td>\n    </tr>\n    <tr>\n      <th>19639</th>\n      <td>19639</td>\n      <td>3</td>\n      <td>WILLIAMSBURG-NORTH</td>\n      <td>11 SPECIAL CONDO BILLING LOTS</td>\n      <td>2</td>\n      <td>2337</td>\n      <td>1203.0</td>\n      <td>RR</td>\n      <td>207 NORTH 5TH STREET, PH</td>\n      <td>PH</td>\n      <td>...</td>\n      <td>0.0</td>\n      <td>1</td>\n      <td>2500</td>\n      <td>2233</td>\n      <td>2017</td>\n      <td>2</td>\n      <td>RR</td>\n      <td>3360000</td>\n      <td>NaN</td>\n      <td>NaN</td>\n    </tr>\n  </tbody>\n</table>\n<p>19640 rows × 22 columns</p>\n</div>"
     },
     "execution_count": 7,
     "metadata": {},
     "output_type": "execute_result"
    }
   ],
   "source": [
    "data"
   ],
   "metadata": {
    "collapsed": false
   }
  },
  {
   "cell_type": "markdown",
   "source": [
    "# Data Analysis"
   ],
   "metadata": {
    "collapsed": false
   }
  },
  {
   "cell_type": "code",
   "execution_count": 9,
   "outputs": [
    {
     "data": {
      "text/plain": "<Figure size 432x288 with 1 Axes>",
      "image/png": "[encoded data removed]"
     },
     "metadata": {
      "needs_background": "light"
     },
     "output_type": "display_data"
    }
   ],
   "source": [
    "plt.scatter(x=data['year_of_sale'],y=data['price'])\n",
    "ax =plt.gca()\n",
    "ax.get_yaxis().get_major_formatter().set_scientific(False)\n",
    "plt.draw()\n"
   ],
   "metadata": {
    "collapsed": false
   }
  },
  {
   "cell_type": "markdown",
   "source": [
    "## In the above scatter plot we can clearly see that highest sales was of $255 million in 2020, it would be good to find the reason behind this outlier value"
   ],
   "metadata": {
    "collapsed": false
   }
  },
  {
   "cell_type": "code",
   "execution_count": 10,
   "outputs": [
    {
     "data": {
      "text/plain": "          Id  borough      neighborhood              bldclasscat taxclasscurr  \\\n12656  12656        3  BROOKLYN HEIGHTS  01 ONE FAMILY DWELLINGS            1   \n\n       block  lot bldclasscurr             address aptnum  ...  comunits  \\\n12656    208  NaN           A7  8 MONTAGUE TERRACE      7  ...       0.0   \n\n       totunits  landsqft  grosssqft  yrbuilt  taxclasssale  bldclasssale  \\\n12656         1      4140      11580     1900             1            A7   \n\n          price        date  year_of_sale  \n12656  25500000  2020-12-24        2020.0  \n\n[1 rows x 22 columns]",
      "text/html": "<div>\n<style scoped>\n    .dataframe tbody tr th:only-of-type {\n        vertical-align: middle;\n    }\n\n    .dataframe tbody tr th {\n        vertical-align: top;\n    }\n\n    .dataframe thead th {\n        text-align: right;\n    }\n</style>\n<table border=\"1\" class=\"dataframe\">\n  <thead>\n    <tr style=\"text-align: right;\">\n      <th></th>\n      <th>Id</th>\n      <th>borough</th>\n      <th>neighborhood</th>\n      <th>bldclasscat</th>\n      <th>taxclasscurr</th>\n      <th>block</th>\n      <th>lot</th>\n      <th>bldclasscurr</th>\n      <th>address</th>\n      <th>aptnum</th>\n      <th>...</th>\n      <th>comunits</th>\n      <th>totunits</th>\n      <th>landsqft</th>\n      <th>grosssqft</th>\n      <th>yrbuilt</th>\n      <th>taxclasssale</th>\n      <th>bldclasssale</th>\n      <th>price</th>\n      <th>date</th>\n      <th>year_of_sale</th>\n    </tr>\n  </thead>\n  <tbody>\n    <tr>\n      <th>12656</th>\n      <td>12656</td>\n      <td>3</td>\n      <td>BROOKLYN HEIGHTS</td>\n      <td>01 ONE FAMILY DWELLINGS</td>\n      <td>1</td>\n      <td>208</td>\n      <td>NaN</td>\n      <td>A7</td>\n      <td>8 MONTAGUE TERRACE</td>\n      <td>7</td>\n      <td>...</td>\n      <td>0.0</td>\n      <td>1</td>\n      <td>4140</td>\n      <td>11580</td>\n      <td>1900</td>\n      <td>1</td>\n      <td>A7</td>\n      <td>25500000</td>\n      <td>2020-12-24</td>\n      <td>2020.0</td>\n    </tr>\n  </tbody>\n</table>\n<p>1 rows × 22 columns</p>\n</div>"
     },
     "execution_count": 10,
     "metadata": {},
     "output_type": "execute_result"
    }
   ],
   "source": [
    "data.sort_values('price').tail(1)"
   ],
   "metadata": {
    "collapsed": false
   }
  },
  {
   "cell_type": "code",
   "execution_count": 11,
   "outputs": [
    {
     "data": {
      "text/plain": "count       19640.000000\nmean       663296.623014\nstd        854682.009544\nmin             0.000000\n25%             0.000000\n50%        545000.000000\n75%        890000.000000\nmax      25500000.000000\nName: price, dtype: object"
     },
     "execution_count": 11,
     "metadata": {},
     "output_type": "execute_result"
    }
   ],
   "source": [
    "data['price'].describe().apply(lambda x: format(x, 'f'))"
   ],
   "metadata": {
    "collapsed": false
   }
  },
  {
   "cell_type": "markdown",
   "source": [
    "## Further checking the statistics on Price, interestingly the 25th percentile house sales correspond to $0, unsure about it though, if this is not an affecting reason then we should go ahead and remove the zero Price values"
   ],
   "metadata": {
    "collapsed": false
   }
  },
  {
   "cell_type": "code",
   "execution_count": 12,
   "outputs": [],
   "source": [
    "data_non_zero = data[data.price > 0]"
   ],
   "metadata": {
    "collapsed": false
   }
  },
  {
   "cell_type": "code",
   "execution_count": 16,
   "outputs": [
    {
     "name": "stdout",
     "output_type": "stream",
     "text": [
      "Original shape of data (19640, 22)\n",
      "Shape of data after removing 0 value prices (13985, 22)\n"
     ]
    }
   ],
   "source": [
    "print(\"Original shape of data\", data.shape)\n",
    "print(\"Shape of data after removing 0 value prices\", data_non_zero.shape)"
   ],
   "metadata": {
    "collapsed": false
   }
  },
  {
   "cell_type": "code",
   "execution_count": null,
   "outputs": [],
   "source": [],
   "metadata": {
    "collapsed": false
   }
  },
  {
   "cell_type": "code",
   "execution_count": 18,
   "outputs": [],
   "source": [
    "bins=[-100000000,20000,40000,60000,80000,100000,1000000,10000000,500000000]\n",
    "choices =['$0-$200k','$200k-$400k','$400k-$600k','$600k-$800k','$800k-$1mlln','$1mlln-$10mlln','$10mlln-$100mlln','$100mlln-$500mlln']\n",
    "data_non_zero['price_range']=pd.cut(data_non_zero['price'],bins=bins,labels=choices)"
   ],
   "metadata": {
    "collapsed": false
   }
  },
  {
   "cell_type": "code",
   "execution_count": 34,
   "outputs": [],
   "source": [
    "sale_range = data_non_zero.groupby(['year_of_sale','price_range'])['price_range'].count().reset_index(name='count')"
   ],
   "metadata": {
    "collapsed": false
   }
  },
  {
   "cell_type": "code",
   "execution_count": 51,
   "outputs": [
    {
     "name": "stderr",
     "output_type": "stream",
     "text": [
      "C:\\Users\\PEARL\\anaconda3\\lib\\site-packages\\seaborn\\distributions.py:385: UserWarning:\n",
      "\n",
      "`bins` cannot be 'auto' when using weights. Setting `bins=10`, but you will likely want to adjust.\n",
      "\n"
     ]
    },
    {
     "data": {
      "text/plain": "Text(0.5, 1.0, 'test')"
     },
     "execution_count": 51,
     "metadata": {},
     "output_type": "execute_result"
    },
    {
     "data": {
      "text/plain": "<Figure size 432x288 with 1 Axes>",
      "image/png": "[encoded data removed]"
     },
     "metadata": {
      "needs_background": "light"
     },
     "output_type": "display_data"
    }
   ],
   "source": [
    "ax = sns.histplot(\n",
    "    sale_range,\n",
    "    x = 'year_of_sale',\n",
    "    weights='count',\n",
    "    hue='price_range',\n",
    "    multiple='stack',\n",
    "    edgecolor='white',\n",
    "    shrink=1\n",
    ")\n",
    "\n",
    "ax.set_title('test')"
   ],
   "metadata": {
    "collapsed": false
   }
  },
  {
   "cell_type": "markdown",
   "source": [
    "## Here we can see that in all the years most sales occurred between the range $1 million - $10 million and the second most sales occurred in the range of $10 million - $100 million"
   ],
   "metadata": {
    "collapsed": false
   }
  },
  {
   "cell_type": "code",
   "execution_count": null,
   "outputs": [],
   "source": [],
   "metadata": {
    "collapsed": false
   }
  },
  {
   "cell_type": "code",
   "execution_count": null,
   "outputs": [],
   "source": [
    "data.columns"
   ],
   "metadata": {
    "collapsed": false
   }
  },
  {
   "cell_type": "code",
   "execution_count": null,
   "outputs": [],
   "source": [
    "X  = data.drop(\"price\",axis=1)\n",
    "y = data[\"price\"]"
   ],
   "metadata": {
    "collapsed": false
   }
  },
  {
   "cell_type": "code",
   "execution_count": null,
   "outputs": [],
   "source": [
    "X_train, X_test, y_train, y_test = train_test_split(data, y, test_size=0.33, random_state=42)"
   ],
   "metadata": {
    "collapsed": false
   }
  },
  {
   "cell_type": "code",
   "execution_count": null,
   "outputs": [],
   "source": [
    "#create HouseObjectOriented object\n",
    "HOOP = HouseObjectOriented()"
   ],
   "metadata": {
    "collapsed": false
   }
  },
  {
   "cell_type": "code",
   "execution_count": null,
   "outputs": [],
   "source": [
    "HOOP.add_data(X_train, X_test)\n"
   ],
   "metadata": {
    "collapsed": false
   }
  },
  {
   "cell_type": "code",
   "execution_count": null,
   "outputs": [],
   "source": [
    "HOOP.information()"
   ],
   "metadata": {
    "collapsed": false
   }
  },
  {
   "cell_type": "code",
   "execution_count": null,
   "outputs": [],
   "source": [
    "# dft.reset_index().drop('index', axis=1)"
   ],
   "metadata": {
    "collapsed": false
   }
  },
  {
   "cell_type": "code",
   "execution_count": null,
   "outputs": [],
   "source": [
    "ML1 = HOOP.ml(HOOP)"
   ],
   "metadata": {
    "collapsed": false
   }
  },
  {
   "cell_type": "code",
   "execution_count": null,
   "outputs": [],
   "source": [
    "ML1.show_available_algorithms()\n"
   ],
   "metadata": {
    "collapsed": false
   }
  },
  {
   "cell_type": "code",
   "execution_count": null,
   "outputs": [],
   "source": [
    "ML1.init_regressors('all')"
   ],
   "metadata": {
    "collapsed": false
   }
  },
  {
   "cell_type": "markdown",
   "source": [],
   "metadata": {
    "collapsed": false
   }
  },
  {
   "cell_type": "code",
   "execution_count": null,
   "outputs": [],
   "source": [],
   "metadata": {
    "collapsed": false
   }
  },
  {
   "cell_type": "code",
   "execution_count": null,
   "outputs": [],
   "source": [],
   "metadata": {
    "collapsed": false
   }
  },
  {
   "cell_type": "code",
   "execution_count": null,
   "outputs": [],
   "source": [],
   "metadata": {
    "collapsed": false
   }
  },
  {
   "cell_type": "code",
   "execution_count": null,
   "outputs": [],
   "source": [],
   "metadata": {
    "collapsed": false
   }
  },
  {
   "cell_type": "code",
   "execution_count": null,
   "outputs": [],
   "source": [],
   "metadata": {
    "collapsed": false
   }
  },
  {
   "cell_type": "code",
   "execution_count": null,
   "outputs": [],
   "source": [],
   "metadata": {
    "collapsed": false
   }
  },
  {
   "cell_type": "code",
   "execution_count": null,
   "outputs": [],
   "source": [],
   "metadata": {
    "collapsed": false
   }
  },
  {
   "cell_type": "code",
   "execution_count": null,
   "outputs": [],
   "source": [],
   "metadata": {
    "collapsed": false
   }
  }
 ],
 "metadata": {
  "kernelspec": {
   "display_name": "Python 3",
   "language": "python",
   "name": "python3"
  },
  "language_info": {
   "codemirror_mode": {
    "name": "ipython",
    "version": 2
   },
   "file_extension": ".py",
   "mimetype": "text/x-python",
   "name": "python",
   "nbconvert_exporter": "python",
   "pygments_lexer": "ipython2",
   "version": "2.7.6"
  }
 },
 "nbformat": 4,
 "nbformat_minor": 0
}
